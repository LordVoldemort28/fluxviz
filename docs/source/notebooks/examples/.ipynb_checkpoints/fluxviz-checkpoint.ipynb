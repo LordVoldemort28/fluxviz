{
 "cells": [
  {
   "cell_type": "code",
   "execution_count": 1,
   "metadata": {},
   "outputs": [],
   "source": [
    "import cobra\n",
    "import cobra.test"
   ]
  },
  {
   "cell_type": "code",
   "execution_count": 2,
   "metadata": {},
   "outputs": [],
   "source": [
    "# model = cobra.io.read_sbml_model(\"./models/Recon3D.xml\")\n",
    "model = cobra.test.create_test_model(\"ecoli\")"
   ]
  },
  {
   "cell_type": "code",
   "execution_count": 3,
   "metadata": {
    "scrolled": true
   },
   "outputs": [
    {
     "data": {
      "text/html": [
       "\n",
       "        <table>\n",
       "            <tr>\n",
       "                <td><strong>Name</strong></td>\n",
       "                <td>iJO1366</td>\n",
       "            </tr><tr>\n",
       "                <td><strong>Memory address</strong></td>\n",
       "                <td>0x011220d610</td>\n",
       "            </tr><tr>\n",
       "                <td><strong>Number of metabolites</strong></td>\n",
       "                <td>1805</td>\n",
       "            </tr><tr>\n",
       "                <td><strong>Number of reactions</strong></td>\n",
       "                <td>2583</td>\n",
       "            </tr><tr>\n",
       "                <td><strong>Number of groups</strong></td>\n",
       "                <td>37</td>\n",
       "            </tr><tr>\n",
       "                <td><strong>Objective expression</strong></td>\n",
       "                <td>1.0*BIOMASS_Ec_iJO1366_core_53p95M - 1.0*BIOMASS_Ec_iJO1366_core_53p95M_reverse_5c8b1</td>\n",
       "            </tr><tr>\n",
       "                <td><strong>Compartments</strong></td>\n",
       "                <td>cytosol, extracellular space, periplasm</td>\n",
       "            </tr>\n",
       "          </table>"
      ],
      "text/plain": [
       "<Model iJO1366 at 0x11220d610>"
      ]
     },
     "execution_count": 3,
     "metadata": {},
     "output_type": "execute_result"
    }
   ],
   "source": [
    "model"
   ]
  },
  {
   "cell_type": "code",
   "execution_count": 4,
   "metadata": {},
   "outputs": [],
   "source": [
    "import fluxviz"
   ]
  },
  {
   "cell_type": "code",
   "execution_count": 5,
   "metadata": {},
   "outputs": [
    {
     "name": "stderr",
     "output_type": "stream",
     "text": [
      "2020-02-03 23:48:06,846 | INFO | Searching for templates within directories: ['/Users/achillesrasquinha/dev/fluxviz/src/fluxviz/data/templates']\n"
     ]
    },
    {
     "ename": "KeyError",
     "evalue": "'img_path'",
     "output_type": "error",
     "traceback": [
      "\u001b[0;31m---------------------------------------------------------------------------\u001b[0m",
      "\u001b[0;31mKeyError\u001b[0m                                  Traceback (most recent call last)",
      "\u001b[0;32m<ipython-input-5-654ca5aa1540>\u001b[0m in \u001b[0;36m<module>\u001b[0;34m\u001b[0m\n\u001b[0;32m----> 1\u001b[0;31m \u001b[0mfluxviz\u001b[0m\u001b[0;34m.\u001b[0m\u001b[0mplot\u001b[0m\u001b[0;34m(\u001b[0m\u001b[0mmodel\u001b[0m\u001b[0;34m)\u001b[0m\u001b[0;34m\u001b[0m\u001b[0;34m\u001b[0m\u001b[0m\n\u001b[0m",
      "\u001b[0;32m~/dev/fluxviz/src/fluxviz/fluxviz.py\u001b[0m in \u001b[0;36mplot\u001b[0;34m(model)\u001b[0m\n\u001b[1;32m     33\u001b[0m \u001b[0;34m\u001b[0m\u001b[0m\n\u001b[1;32m     34\u001b[0m     javascript  = render_template(\"fluxviz.js\",\n\u001b[0;32m---> 35\u001b[0;31m         \u001b[0mmodel\u001b[0m \u001b[0;34m=\u001b[0m \u001b[0mjson_\u001b[0m\u001b[0;34m,\u001b[0m \u001b[0mimage_path\u001b[0m \u001b[0;34m=\u001b[0m \u001b[0mosp\u001b[0m\u001b[0;34m.\u001b[0m\u001b[0mjoin\u001b[0m\u001b[0;34m(\u001b[0m\u001b[0mPATH\u001b[0m\u001b[0;34m[\u001b[0m\u001b[0;34m\"DATA\"\u001b[0m\u001b[0;34m]\u001b[0m\u001b[0;34m,\u001b[0m \u001b[0;34m\"images\"\u001b[0m\u001b[0;34m)\u001b[0m\u001b[0;34m\u001b[0m\u001b[0;34m\u001b[0m\u001b[0m\n\u001b[0m\u001b[1;32m     36\u001b[0m     )\n\u001b[1;32m     37\u001b[0m \u001b[0;34m\u001b[0m\u001b[0m\n",
      "\u001b[0;32m~/dev/fluxviz/src/fluxviz/template.py\u001b[0m in \u001b[0;36mrender_template\u001b[0;34m(template, dirs, context, **kwargs)\u001b[0m\n\u001b[1;32m     66\u001b[0m \u001b[0;34m\u001b[0m\u001b[0m\n\u001b[1;32m     67\u001b[0m         \u001b[0mtemplate\u001b[0m \u001b[0;34m=\u001b[0m \u001b[0mTemplate\u001b[0m\u001b[0;34m(\u001b[0m\u001b[0mstring\u001b[0m\u001b[0;34m)\u001b[0m\u001b[0;34m\u001b[0m\u001b[0;34m\u001b[0m\u001b[0m\n\u001b[0;32m---> 68\u001b[0;31m         \u001b[0mrendered\u001b[0m \u001b[0;34m=\u001b[0m \u001b[0mtemplate\u001b[0m\u001b[0;34m.\u001b[0m\u001b[0msubstitute\u001b[0m\u001b[0;34m(\u001b[0m\u001b[0mcontext\u001b[0m\u001b[0;34m)\u001b[0m\u001b[0;34m\u001b[0m\u001b[0;34m\u001b[0m\u001b[0m\n\u001b[0m\u001b[1;32m     69\u001b[0m \u001b[0;34m\u001b[0m\u001b[0m\n\u001b[1;32m     70\u001b[0m     \u001b[0;32mreturn\u001b[0m \u001b[0mrendered\u001b[0m\u001b[0;34m\u001b[0m\u001b[0;34m\u001b[0m\u001b[0m\n",
      "\u001b[0;32m/usr/local/Cellar/python/3.7.5/Frameworks/Python.framework/Versions/3.7/lib/python3.7/string.py\u001b[0m in \u001b[0;36msubstitute\u001b[0;34m(*args, **kws)\u001b[0m\n\u001b[1;32m    130\u001b[0m             raise ValueError('Unrecognized named group in pattern',\n\u001b[1;32m    131\u001b[0m                              self.pattern)\n\u001b[0;32m--> 132\u001b[0;31m         \u001b[0;32mreturn\u001b[0m \u001b[0mself\u001b[0m\u001b[0;34m.\u001b[0m\u001b[0mpattern\u001b[0m\u001b[0;34m.\u001b[0m\u001b[0msub\u001b[0m\u001b[0;34m(\u001b[0m\u001b[0mconvert\u001b[0m\u001b[0;34m,\u001b[0m \u001b[0mself\u001b[0m\u001b[0;34m.\u001b[0m\u001b[0mtemplate\u001b[0m\u001b[0;34m)\u001b[0m\u001b[0;34m\u001b[0m\u001b[0;34m\u001b[0m\u001b[0m\n\u001b[0m\u001b[1;32m    133\u001b[0m \u001b[0;34m\u001b[0m\u001b[0m\n\u001b[1;32m    134\u001b[0m     \u001b[0;32mdef\u001b[0m \u001b[0msafe_substitute\u001b[0m\u001b[0;34m(\u001b[0m\u001b[0;34m*\u001b[0m\u001b[0margs\u001b[0m\u001b[0;34m,\u001b[0m \u001b[0;34m**\u001b[0m\u001b[0mkws\u001b[0m\u001b[0;34m)\u001b[0m\u001b[0;34m:\u001b[0m\u001b[0;34m\u001b[0m\u001b[0;34m\u001b[0m\u001b[0m\n",
      "\u001b[0;32m/usr/local/Cellar/python/3.7.5/Frameworks/Python.framework/Versions/3.7/lib/python3.7/string.py\u001b[0m in \u001b[0;36mconvert\u001b[0;34m(mo)\u001b[0m\n\u001b[1;32m    123\u001b[0m             \u001b[0mnamed\u001b[0m \u001b[0;34m=\u001b[0m \u001b[0mmo\u001b[0m\u001b[0;34m.\u001b[0m\u001b[0mgroup\u001b[0m\u001b[0;34m(\u001b[0m\u001b[0;34m'named'\u001b[0m\u001b[0;34m)\u001b[0m \u001b[0;32mor\u001b[0m \u001b[0mmo\u001b[0m\u001b[0;34m.\u001b[0m\u001b[0mgroup\u001b[0m\u001b[0;34m(\u001b[0m\u001b[0;34m'braced'\u001b[0m\u001b[0;34m)\u001b[0m\u001b[0;34m\u001b[0m\u001b[0;34m\u001b[0m\u001b[0m\n\u001b[1;32m    124\u001b[0m             \u001b[0;32mif\u001b[0m \u001b[0mnamed\u001b[0m \u001b[0;32mis\u001b[0m \u001b[0;32mnot\u001b[0m \u001b[0;32mNone\u001b[0m\u001b[0;34m:\u001b[0m\u001b[0;34m\u001b[0m\u001b[0;34m\u001b[0m\u001b[0m\n\u001b[0;32m--> 125\u001b[0;31m                 \u001b[0;32mreturn\u001b[0m \u001b[0mstr\u001b[0m\u001b[0;34m(\u001b[0m\u001b[0mmapping\u001b[0m\u001b[0;34m[\u001b[0m\u001b[0mnamed\u001b[0m\u001b[0;34m]\u001b[0m\u001b[0;34m)\u001b[0m\u001b[0;34m\u001b[0m\u001b[0;34m\u001b[0m\u001b[0m\n\u001b[0m\u001b[1;32m    126\u001b[0m             \u001b[0;32mif\u001b[0m \u001b[0mmo\u001b[0m\u001b[0;34m.\u001b[0m\u001b[0mgroup\u001b[0m\u001b[0;34m(\u001b[0m\u001b[0;34m'escaped'\u001b[0m\u001b[0;34m)\u001b[0m \u001b[0;32mis\u001b[0m \u001b[0;32mnot\u001b[0m \u001b[0;32mNone\u001b[0m\u001b[0;34m:\u001b[0m\u001b[0;34m\u001b[0m\u001b[0;34m\u001b[0m\u001b[0m\n\u001b[1;32m    127\u001b[0m                 \u001b[0;32mreturn\u001b[0m \u001b[0mself\u001b[0m\u001b[0;34m.\u001b[0m\u001b[0mdelimiter\u001b[0m\u001b[0;34m\u001b[0m\u001b[0;34m\u001b[0m\u001b[0m\n",
      "\u001b[0;31mKeyError\u001b[0m: 'img_path'"
     ]
    }
   ],
   "source": [
    "fluxviz.plot(model)"
   ]
  },
  {
   "cell_type": "code",
   "execution_count": null,
   "metadata": {},
   "outputs": [],
   "source": [
    "# from cobra.io.json import to_json as model_to_json\n",
    "\n",
    "# from IPython.display import HTML\n",
    "\n",
    "# def fluxviz(model):\n",
    "#     model    = model_to_json(model)\n",
    "#     template = \"\"\"\n",
    "#         <canvas id=\"graph\"></canvas>\n",
    "#         <script>        \n",
    "#             require.config({\n",
    "#                 paths: {\n",
    "#                     ccNetViz: \"https://unpkg.com/ccnetviz@1.0.19/lib/ccNetViz\",\n",
    "#                     Combinatorics: \"https://cdn.jsdelivr.net/npm/js-combinatorics@0.5?noext\"\n",
    "#                 }\n",
    "#             })\n",
    "            \n",
    "#             require([\"ccNetViz\", \"Combinatorics\"], (ccNetViz, Combinatorics) => {\n",
    "#                 const _patch = model => {\n",
    "#                     const METABOLITE_MAP = model.metabolites.reduce((prev, next) => ({\n",
    "#                         ...prev, [next.id]: next\n",
    "#                     }), { })\n",
    "\n",
    "#                     for ( const reaction of model.reactions ) {\n",
    "#                         const compartments = [ ];\n",
    "\n",
    "#                         for ( const reaction_metabolite in reaction.metabolites ) {\n",
    "#                             const metabolite = METABOLITE_MAP[reaction_metabolite];\n",
    "\n",
    "#                             if ( metabolite ) {\n",
    "#                                 compartments.push(metabolite.compartment)\n",
    "#                             }\n",
    "#                         }\n",
    "\n",
    "#                         reaction.compartments = Array.from(new Set(compartments))\n",
    "#                     }\n",
    "#                 };\n",
    "            \n",
    "#                 ccNetViz      = ccNetViz.default;\n",
    "                \n",
    "#                 const model   = %s\n",
    "            \n",
    "#                 const RATIO    = 4 / 3;\n",
    "            \n",
    "#                 const WIDTH    = window.width;\n",
    "#                 const HEIGHT   = WIDTH * RATIO;\n",
    "            \n",
    "#                 const element  = document.getElementById(\"graph\");\n",
    "#                 element.width  = 500;\n",
    "#                 element.height = 500;\n",
    "                \n",
    "#                 _patch(model);\n",
    "                \n",
    "#                 const NODES    = { };\n",
    "                \n",
    "#                 const nodes    = Object.keys(model.compartments).map(c => {\n",
    "#                     const compartment  = model.compartments[c];\n",
    "                    \n",
    "#                     const nodes        = model.metabolites.map(m => ({ label: m.name }));\n",
    "                    \n",
    "#                     const node         = { label: compartment, nodes };\n",
    "                    \n",
    "#                     NODES[c]           = node;\n",
    "                \n",
    "#                     return node;\n",
    "#                 });\n",
    "#                 const edges    = Combinatorics\n",
    "#                     .combination(\n",
    "#                         Object.keys(\n",
    "#                             model.compartments\n",
    "#                         )\n",
    "#                     , 2)\n",
    "#                     .toArray()\n",
    "#                     .map(combination => {\n",
    "#                         const a = combination[0];\n",
    "#                         const b = combination[1];\n",
    "                        \n",
    "#                         for ( const reaction of model.reactions ) {\n",
    "#                             if ( reaction.compartments.includes(a) && reaction.compartments.includes(b) ) {\n",
    "#                                 return { from: a, to: b, connection: true };\n",
    "#                             }\n",
    "#                         };\n",
    "                        \n",
    "#                         return { from: a, to: b, connection: false };\n",
    "#                     })\n",
    "#                     .filter(r => r.connection)\n",
    "#                     .map(combination => {\n",
    "#                         const from = NODES[combination.from];\n",
    "#                         const to   = NODES[combination.to];\n",
    "                    \n",
    "#                         return { source: from, target: to };\n",
    "#                     });\n",
    "                                \n",
    "#                 var graph = new ccNetViz(element, {\n",
    "#                     styles: {\n",
    "#                         node: { texture: \"images/node.png\", label: { hideSize: 16 } },\n",
    "#                         edge: { }\n",
    "#                     }\n",
    "#                 });\n",
    "#                 graph.set(nodes, edges, \"force\").then(() => {\n",
    "#                     graph.draw();\n",
    "#                 })\n",
    "#             })\n",
    "#         </script>\n",
    "#     \"\"\" % (model)\n",
    "    \n",
    "#     html     = HTML(template)\n",
    "    \n",
    "#     return html"
   ]
  },
  {
   "cell_type": "code",
   "execution_count": null,
   "metadata": {
    "scrolled": true
   },
   "outputs": [],
   "source": []
  }
 ],
 "metadata": {
  "kernelspec": {
   "display_name": "Python 3",
   "language": "python",
   "name": "python3"
  },
  "language_info": {
   "codemirror_mode": {
    "name": "ipython",
    "version": 3
   },
   "file_extension": ".py",
   "mimetype": "text/x-python",
   "name": "python",
   "nbconvert_exporter": "python",
   "pygments_lexer": "ipython3",
   "version": "3.7.5"
  }
 },
 "nbformat": 4,
 "nbformat_minor": 2
}
